{
  "nbformat": 4,
  "nbformat_minor": 0,
  "metadata": {
    "colab": {
      "provenance": [],
      "authorship_tag": "ABX9TyNL2vl+3M66n7OCVYs/U5ci",
      "include_colab_link": true
    },
    "kernelspec": {
      "name": "python3",
      "display_name": "Python 3"
    },
    "language_info": {
      "name": "python"
    }
  },
  "cells": [
    {
      "cell_type": "markdown",
      "metadata": {
        "id": "view-in-github",
        "colab_type": "text"
      },
      "source": [
        "<a href=\"https://colab.research.google.com/github/Tanvirc-02/Twitter-Sentiment-Analysis/blob/main/SentimentAnalysis.ipynb\" target=\"_parent\"><img src=\"https://colab.research.google.com/assets/colab-badge.svg\" alt=\"Open In Colab\"/></a>"
      ]
    },
    {
      "cell_type": "code",
      "execution_count": null,
      "metadata": {
        "id": "Ww8tyk2Xpi9T"
      },
      "outputs": [],
      "source": [
        "!pip uninstall scikit-learn -y\n",
        "\n",
        "!pip install -U scikit-learn\n",
        "\n",
        "import nltk\n",
        "nltk.download('stopwords')\n",
        "import pandas as pd\n",
        "import numpy as np\n",
        "import re\n",
        "import seaborn as sns\n",
        "import matplotlib.pyplot as plt\n",
        "from matplotlib import style\n",
        "style.use('ggplot')\n",
        "from textblob import TextBlob\n",
        "from nltk.tokenize import word_tokenize\n",
        "from nltk.stem import PorterStemmer\n",
        "from nltk.corpus import stopwords\n",
        "stop_words = set(stopwords.words('english'))\n",
        "from wordcloud import WordCloud\n",
        "from sklearn.feature_extraction.text import CountVectorizer\n",
        "from sklearn.model_selection import train_test_split\n",
        "from sklearn.linear_model import LogisticRegression\n",
        "from sklearn.metrics import accuracy_score, classification_report, confusion_matrix, completeness_score, ConfusionMatrixDisplay"
      ]
    },
    {
      "cell_type": "code",
      "source": [
        "df = pd.read_csv('vaccination_all_tweets.csv')"
      ],
      "metadata": {
        "id": "BQ2YYvCZ8M7V"
      },
      "execution_count": 2,
      "outputs": []
    },
    {
      "cell_type": "code",
      "source": [
        "df.head()"
      ],
      "metadata": {
        "id": "wrl4UR3D8Xv0"
      },
      "execution_count": null,
      "outputs": []
    },
    {
      "cell_type": "code",
      "source": [
        "df.info()"
      ],
      "metadata": {
        "id": "_uY6fiZ49NNe"
      },
      "execution_count": null,
      "outputs": []
    },
    {
      "cell_type": "code",
      "source": [
        "df.isnull().sum()"
      ],
      "metadata": {
        "id": "1YHO5xuY9Ssu"
      },
      "execution_count": null,
      "outputs": []
    },
    {
      "cell_type": "code",
      "source": [
        "df.columns"
      ],
      "metadata": {
        "id": "olxNXJkW9b2q"
      },
      "execution_count": null,
      "outputs": []
    },
    {
      "cell_type": "code",
      "source": [
        "text_df = df.drop(['id', 'user_name', 'user_location', 'user_description', 'user_created',\n",
        "       'user_followers', 'user_friends', 'user_favourites', 'user_verified',\n",
        "       'date', 'hashtags', 'source', 'retweets', 'favorites',\n",
        "       'is_retweet'], axis = 1)"
      ],
      "metadata": {
        "id": "sE8JXcuj9m8l"
      },
      "execution_count": 7,
      "outputs": []
    },
    {
      "cell_type": "code",
      "source": [
        "text_df.head()"
      ],
      "metadata": {
        "id": "-XdMIjqy-T_2"
      },
      "execution_count": null,
      "outputs": []
    },
    {
      "cell_type": "code",
      "source": [
        "print(text_df['text'].iloc[0], \"\\n\")\n",
        "print(text_df['text'].iloc[1], \"\\n\")\n",
        "print(text_df['text'].iloc[2], \"\\n\")\n",
        "print(text_df['text'].iloc[3], \"\\n\")\n",
        "print(text_df['text'].iloc[4], \"\\n\")"
      ],
      "metadata": {
        "id": "WvjgcOEY-X1k"
      },
      "execution_count": null,
      "outputs": []
    },
    {
      "cell_type": "code",
      "source": [
        "text_df.info()"
      ],
      "metadata": {
        "id": "jcfbWO9w-tFY"
      },
      "execution_count": null,
      "outputs": []
    },
    {
      "cell_type": "code",
      "source": [
        "text_df = text_df.astype(str)"
      ],
      "metadata": {
        "id": "D05ssSfqN-P6"
      },
      "execution_count": 11,
      "outputs": []
    },
    {
      "cell_type": "code",
      "source": [
        "text_df.info()"
      ],
      "metadata": {
        "id": "saaNcGhzOGGf"
      },
      "execution_count": null,
      "outputs": []
    },
    {
      "cell_type": "code",
      "source": [
        "def data_processing(text):\n",
        "  str(text)\n",
        "  text = text.lower()\n",
        "  text = re.sub(r\"https\\S+|www\\S+https\\S+\", '', text, flags=re.MULTILINE)\n",
        "  text = re.sub(r'\\@w+|\\#', '', text)\n",
        "  text = re.sub(r'[^\\w\\s]', '', text)\n",
        "  text_tokens = word_tokenize(text)\n",
        "  filtered_text = [w for w in text_tokens if not w in stop_words]\n",
        "  return \" \".join(filtered_text)"
      ],
      "metadata": {
        "id": "_DBcOwDl-yUV"
      },
      "execution_count": 13,
      "outputs": []
    },
    {
      "cell_type": "code",
      "source": [
        "nltk.download('punkt')\n",
        "text_df.text = text_df['text'].apply(data_processing)"
      ],
      "metadata": {
        "id": "HfjDYTfgK1B3"
      },
      "execution_count": null,
      "outputs": []
    },
    {
      "cell_type": "code",
      "source": [
        "text_df = text_df.drop_duplicates('text')"
      ],
      "metadata": {
        "id": "l5ywDEiCuSng"
      },
      "execution_count": 15,
      "outputs": []
    },
    {
      "cell_type": "code",
      "source": [
        "stemmer = PorterStemmer()\n",
        "def stemming(data):\n",
        "  text = [stemmer.stem(word) for word in data]\n",
        "  return data"
      ],
      "metadata": {
        "id": "TEgsOsxHpTKd"
      },
      "execution_count": 16,
      "outputs": []
    },
    {
      "cell_type": "code",
      "source": [
        "text_df['text'] = text_df['text'].apply(lambda x: stemming(x))"
      ],
      "metadata": {
        "id": "nrqODBssp9IB"
      },
      "execution_count": 17,
      "outputs": []
    },
    {
      "cell_type": "code",
      "source": [
        "text_df.head()"
      ],
      "metadata": {
        "id": "fUAqURDbqYm9"
      },
      "execution_count": null,
      "outputs": []
    },
    {
      "cell_type": "code",
      "source": [
        "print(text_df['text'].iloc[0], \"\\n\")\n",
        "print(text_df['text'].iloc[1], \"\\n\")\n",
        "print(text_df['text'].iloc[2], \"\\n\")\n",
        "print(text_df['text'].iloc[3], \"\\n\")\n",
        "print(text_df['text'].iloc[4], \"\\n\")"
      ],
      "metadata": {
        "id": "p12UohAgreY6"
      },
      "execution_count": null,
      "outputs": []
    },
    {
      "cell_type": "code",
      "source": [
        "text_df.info()"
      ],
      "metadata": {
        "id": "8O7hbu_CrkMt"
      },
      "execution_count": null,
      "outputs": []
    },
    {
      "cell_type": "code",
      "source": [
        "def polarity(text):\n",
        "  return TextBlob(text).sentiment.polarity"
      ],
      "metadata": {
        "id": "x_vSHtPsrpcz"
      },
      "execution_count": 21,
      "outputs": []
    },
    {
      "cell_type": "code",
      "source": [
        "text_df['polarity'] = text_df['text'].apply(polarity)"
      ],
      "metadata": {
        "id": "HJe3opr9scvn"
      },
      "execution_count": 22,
      "outputs": []
    },
    {
      "cell_type": "code",
      "source": [
        "text_df.head()"
      ],
      "metadata": {
        "id": "cS5v3cYVskeU"
      },
      "execution_count": null,
      "outputs": []
    },
    {
      "cell_type": "code",
      "source": [
        "def sentiment(label):\n",
        "  if label < 0:\n",
        "    return \"Negative\"\n",
        "  elif label ==0:\n",
        "    return \"Neutral\"\n",
        "  elif label>0:\n",
        "    return \"Positive\""
      ],
      "metadata": {
        "id": "wSMJk6LksoV7"
      },
      "execution_count": 24,
      "outputs": []
    },
    {
      "cell_type": "code",
      "source": [
        "text_df['sentiment'] = text_df['polarity'].apply(sentiment)"
      ],
      "metadata": {
        "id": "EaDOVZg3ubM7"
      },
      "execution_count": 25,
      "outputs": []
    },
    {
      "cell_type": "code",
      "source": [
        "text_df.head()"
      ],
      "metadata": {
        "id": "b9mLEMODumlO"
      },
      "execution_count": null,
      "outputs": []
    },
    {
      "cell_type": "code",
      "source": [
        "fig = plt.figure(figsize = (5,5))\n",
        "sns.countplot(x = 'sentiment', data = text_df)"
      ],
      "metadata": {
        "id": "km3v189Wureb"
      },
      "execution_count": null,
      "outputs": []
    },
    {
      "cell_type": "code",
      "source": [
        "fig = plt.figure(figsize=(7,7))\n",
        "colors = (\"yellowgreen\", \"gold\", \"red\")\n",
        "wp = {'linewidth':2, 'edgecolor':\"black\"}\n",
        "tags = text_df['sentiment'].value_counts()\n",
        "explode = (0.1, 0.1, 0.1)\n",
        "tags.plot(kind = 'pie', autopct = '%1.1f%%', shadow=True, colors = colors, \n",
        "          startangle=90, wedgeprops = wp, explode = explode, label='')\n",
        "plt.title('Distribution of Sentiments')"
      ],
      "metadata": {
        "id": "E4dpVco5vAf4"
      },
      "execution_count": null,
      "outputs": []
    },
    {
      "cell_type": "code",
      "source": [
        "pos_tweets = text_df[text_df.sentiment=='Positive']\n",
        "pos_tweets = pos_tweets.sort_values(['polarity'], ascending = False)\n",
        "pos_tweets.head()"
      ],
      "metadata": {
        "id": "VyRDUTK0wSVL"
      },
      "execution_count": null,
      "outputs": []
    },
    {
      "cell_type": "code",
      "source": [
        "text = ' '.join([word for word in pos_tweets['text']])\n",
        "plt.figure(figsize=(20,15), facecolor='None')\n",
        "wordcloud = WordCloud(max_words=500, width=1600, height=800).generate(text)\n",
        "plt.imshow(wordcloud, interpolation='bilinear')\n",
        "plt.axis(\"off\") \n",
        "plt.title(\"Most frequent words in positive tweets\", fontsize=19)\n",
        "plt.show()"
      ],
      "metadata": {
        "id": "nSvhFW3heKO_"
      },
      "execution_count": null,
      "outputs": []
    },
    {
      "cell_type": "code",
      "source": [
        "neg_tweets = text_df[text_df.sentiment=='Negative']\n",
        "neg_tweets = neg_tweets.sort_values(['polarity'], ascending = False)\n",
        "neg_tweets.head()"
      ],
      "metadata": {
        "id": "Md4aotmOgsEy"
      },
      "execution_count": null,
      "outputs": []
    },
    {
      "cell_type": "code",
      "source": [
        "text = ' '.join([word for word in neg_tweets['text']])\n",
        "plt.figure(figsize=(20,15), facecolor='None')\n",
        "wordcloud = WordCloud(max_words=500, width=1600, height=800).generate(text)\n",
        "plt.imshow(wordcloud, interpolation='bilinear')\n",
        "plt.axis(\"off\") \n",
        "plt.title(\"Most frequent words in negative tweets\", fontsize=19)\n",
        "plt.show()"
      ],
      "metadata": {
        "id": "WKsKxfrwhDIO"
      },
      "execution_count": null,
      "outputs": []
    },
    {
      "cell_type": "code",
      "source": [
        "neutral_tweets = text_df[text_df.sentiment=='Neutral']\n",
        "neutral_tweets = neutral_tweets.sort_values(['polarity'], ascending = False)\n",
        "neutral_tweets.head()"
      ],
      "metadata": {
        "id": "N8kdCPZchZER"
      },
      "execution_count": null,
      "outputs": []
    },
    {
      "cell_type": "code",
      "source": [
        "text = ' '.join([word for word in neutral_tweets['text']])\n",
        "plt.figure(figsize=(20,15), facecolor='None')\n",
        "wordcloud = WordCloud(max_words=500, width=1600, height=800).generate(text)\n",
        "plt.imshow(wordcloud, interpolation='bilinear')\n",
        "plt.axis(\"off\") \n",
        "plt.title(\"Most frequent words in neutral tweets\", fontsize=19)\n",
        "plt.show()"
      ],
      "metadata": {
        "id": "0Qh1BU_kjYKA"
      },
      "execution_count": null,
      "outputs": []
    },
    {
      "cell_type": "code",
      "source": [
        "vect = CountVectorizer(ngram_range=(1,2)).fit(text_df['text'])"
      ],
      "metadata": {
        "id": "M-LKOC7noqz1"
      },
      "execution_count": 35,
      "outputs": []
    },
    {
      "cell_type": "code",
      "source": [
        "feature_names = vect.get_feature_names_out()\n",
        "print(\"Nummber of feature: {}\\n\".format(len(feature_names)))\n",
        "print(\" First 20 features:\\n\".format(feature_names[:20]))"
      ],
      "metadata": {
        "id": "eRFNLJngLJQ-"
      },
      "execution_count": null,
      "outputs": []
    },
    {
      "cell_type": "code",
      "source": [
        "X = text_df['text']\n",
        "Y = text_df['sentiment']\n",
        "X = vect.transform(X)"
      ],
      "metadata": {
        "id": "_cXnFhI5PfwD"
      },
      "execution_count": 37,
      "outputs": []
    },
    {
      "cell_type": "code",
      "source": [
        "x_train, x_test, y_train, y_test = train_test_split(X, Y, test_size=0.2, random_state=42)"
      ],
      "metadata": {
        "id": "NoYRKYjlPwLW"
      },
      "execution_count": 38,
      "outputs": []
    },
    {
      "cell_type": "code",
      "source": [
        "print(\"Size of x_train:\", (x_train.shape))\n",
        "print(\"Size of y_train:\", (y_train.shape))\n",
        "print(\"Size of x_test:\", (x_test.shape))\n",
        "print(\"Size of y_test:\", (y_test.shape))"
      ],
      "metadata": {
        "id": "vtCw2CdiQD9t"
      },
      "execution_count": null,
      "outputs": []
    },
    {
      "cell_type": "code",
      "source": [
        "import warnings\n",
        "warnings.filterwarnings('ignore')"
      ],
      "metadata": {
        "id": "OEkUF2ToRnxI"
      },
      "execution_count": 40,
      "outputs": []
    },
    {
      "cell_type": "code",
      "source": [
        "logreg = LogisticRegression()\n",
        "logreg.fit(x_train, y_train)\n",
        "logreg_pred = logreg.predict(x_test)\n",
        "logreg_acc = accuracy_score(logreg_pred, y_test)\n",
        "print(\"Test accuracy: {:.2f}%\".format(logreg_acc*100))"
      ],
      "metadata": {
        "id": "3JSBi6trQmhV"
      },
      "execution_count": null,
      "outputs": []
    },
    {
      "cell_type": "code",
      "source": [
        "print(confusion_matrix(y_test, logreg_pred))\n",
        "print(\"\\n\")\n",
        "print(classification_report(y_test, logreg_pred))"
      ],
      "metadata": {
        "id": "f-f0TyFWSDs4"
      },
      "execution_count": null,
      "outputs": []
    },
    {
      "cell_type": "code",
      "source": [
        "style.use('classic')\n",
        "cm = confusion_matrix(y_test, logreg_pred, labels=logreg.classes_)\n",
        "disp = ConfusionMatrixDisplay(confusion_matrix=cm, display_labels=logreg.classes_)\n",
        "disp.plot()"
      ],
      "metadata": {
        "id": "v6NTCZbHSoRL"
      },
      "execution_count": null,
      "outputs": []
    },
    {
      "cell_type": "code",
      "source": [
        "from sklearn.model_selection import GridSearchCV"
      ],
      "metadata": {
        "id": "E7tnuI7pc-_E"
      },
      "execution_count": 44,
      "outputs": []
    },
    {
      "cell_type": "code",
      "source": [
        "param_grid={'C':[0.001, 0.01, 0.1, 1, 10]}\n",
        "grid = GridSearchCV(LogisticRegression(), param_grid)\n",
        "grid.fit(x_train, y_train)"
      ],
      "metadata": {
        "id": "Y4DN-YxI4rlE"
      },
      "execution_count": null,
      "outputs": []
    },
    {
      "cell_type": "code",
      "source": [
        "print(\"Best Parameters:\", grid.best_params_)"
      ],
      "metadata": {
        "id": "MptE29TP5thf"
      },
      "execution_count": null,
      "outputs": []
    },
    {
      "cell_type": "code",
      "source": [
        "y_pred = grid.predict(x_test)"
      ],
      "metadata": {
        "id": "HCo7ua2Y51aa"
      },
      "execution_count": 47,
      "outputs": []
    },
    {
      "cell_type": "code",
      "source": [
        "logreg_acc = accuracy_score(y_pred, y_test)\n",
        "print(\"Test accuracy: {:.2f}%\".format(logreg_acc*100))"
      ],
      "metadata": {
        "id": "tFF4cUg25-Oc"
      },
      "execution_count": null,
      "outputs": []
    },
    {
      "cell_type": "code",
      "source": [
        "print(confusion_matrix(y_test, logreg_pred))\n",
        "print(\"\\n\")\n",
        "print(classification_report(y_test, logreg_pred))"
      ],
      "metadata": {
        "id": "4JYWwI3d6oNP"
      },
      "execution_count": null,
      "outputs": []
    },
    {
      "cell_type": "code",
      "source": [
        "from sklearn.svm import LinearSVC"
      ],
      "metadata": {
        "id": "62xrv2ZZ6wSt"
      },
      "execution_count": 50,
      "outputs": []
    },
    {
      "cell_type": "code",
      "source": [
        "SVCmodel = LinearSVC()\n",
        "SVCmodel.fit(x_train, y_train)"
      ],
      "metadata": {
        "id": "gNASricz-7Jp"
      },
      "execution_count": null,
      "outputs": []
    },
    {
      "cell_type": "code",
      "source": [
        "svc_pred = SVCmodel.predict(x_test)\n",
        "svc_acc = accuracy_score(svc_pred, y_test)\n",
        "print(\"test accuracy: {:.2f}%\".format(svc_acc*100))"
      ],
      "metadata": {
        "id": "yO8F0yQ6_M-_"
      },
      "execution_count": null,
      "outputs": []
    },
    {
      "cell_type": "code",
      "source": [
        "print(confusion_matrix(y_test, svc_pred))\n",
        "print(\"\\n\")\n",
        "print(classification_report(y_test, svc_pred))"
      ],
      "metadata": {
        "id": "kki4mQKn_9Bs"
      },
      "execution_count": null,
      "outputs": []
    },
    {
      "cell_type": "code",
      "source": [
        "grid = {\n",
        "    'C':[0.01, 0.1, 1, 10],\n",
        "    'kernel':[\"linear\", \"poly\", \"rbf\", \"sigmoid\"],\n",
        "    'degree':[1,3,5,7],\n",
        "    'gamma':[0.01,1]\n",
        "}\n",
        "grid=GridSearchCV(SVCmodel, param_grid)\n",
        "grid.fit(x_train, y_train)"
      ],
      "metadata": {
        "id": "euKpzfaYVNv-"
      },
      "execution_count": null,
      "outputs": []
    },
    {
      "cell_type": "code",
      "source": [
        "print(\"Best parameter:\", grid.best_params_)"
      ],
      "metadata": {
        "id": "LapO3UcJW3DQ"
      },
      "execution_count": null,
      "outputs": []
    },
    {
      "cell_type": "code",
      "source": [
        "y_pred = grid.predict(x_test)"
      ],
      "metadata": {
        "id": "DpCzgvw2XABH"
      },
      "execution_count": 56,
      "outputs": []
    },
    {
      "cell_type": "code",
      "source": [
        "logreg_acc = accuracy_score(y_pred, y_test)\n",
        "print(\"Test accuracy: {:.2f}%\".format(logreg_acc*100))"
      ],
      "metadata": {
        "id": "LDIQIHYoXHHO"
      },
      "execution_count": null,
      "outputs": []
    },
    {
      "cell_type": "code",
      "source": [
        "print(confusion_matrix(y_test, y_pred))\n",
        "print(\"\\n\")\n",
        "print(classification_report(y_test, y_pred))"
      ],
      "metadata": {
        "id": "lM5YvRijXldh"
      },
      "execution_count": null,
      "outputs": []
    }
  ]
}